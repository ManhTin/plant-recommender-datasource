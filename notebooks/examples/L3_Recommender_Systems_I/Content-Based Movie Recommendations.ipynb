{
 "cells": [
  {
   "cell_type": "markdown",
   "metadata": {},
   "source": [
    "# Content-Based Movie Recommendations (Item Profiles & User Profiles)\n",
    "\n",
    "![alt text](amazon_prime.png \"Movie Recommendations (source https://www.amazon.com)\")\n",
    "\n",
    "In this notebook, we will have a look at the [MovieLens](https://grouplens.org/datasets/movielens/) dataset, which is a popular dataset for building and benchmarking recommender systems. The dataset version we work with is the 1M dataset, which contains 1,000,209 ratings for about 3,900 movies made by 6,040 users in the year 2000. **Your task is to recommend \"similar\" movies for a given query movie, which is a simple yet often user recommender system.** Note that this notebook is based on the following github repository: [https://github.com/khanhnamle1994/movielens](https://github.com/khanhnamle1994/movielens). Below, we will also make use of the well-known [Numpy](https://numpy.org/) and [Pandas](https://pandas.pydata.org/) packages. The former provides functions for, e.g., matrix/array operations. The latter is a quite complex package for reading tabular-like data."
   ]
  },
  {
   "cell_type": "code",
   "execution_count": 1,
   "metadata": {},
   "outputs": [],
   "source": [
    "import pandas as pd\n",
    "import numpy as np"
   ]
  },
  {
   "cell_type": "code",
   "execution_count": 2,
   "metadata": {},
   "outputs": [
    {
     "name": "stdout",
     "output_type": "stream",
     "text": [
      "The movies dataframe:\n",
      "   movie_id                               title                        genres\n",
      "0         1                    Toy Story (1995)   Animation|Children's|Comedy\n",
      "1         2                      Jumanji (1995)  Adventure|Children's|Fantasy\n",
      "2         3             Grumpier Old Men (1995)                Comedy|Romance\n",
      "3         4            Waiting to Exhale (1995)                  Comedy|Drama\n",
      "4         5  Father of the Bride Part II (1995)                        Comedy\n",
      "5         6                         Heat (1995)         Action|Crime|Thriller\n",
      "6         7                      Sabrina (1995)                Comedy|Romance\n",
      "7         8                 Tom and Huck (1995)          Adventure|Children's\n",
      "8         9                 Sudden Death (1995)                        Action\n",
      "9        10                    GoldenEye (1995)     Action|Adventure|Thriller\n"
     ]
    }
   ],
   "source": [
    "# parse the movies.csv file\n",
    "movies = pd.read_csv('movies.csv', \n",
    "                     sep='\\t', \n",
    "                     encoding='latin-1', \n",
    "                     usecols=['movie_id', 'title', 'genres'])\n",
    "\n",
    "# print the first 10 rows\n",
    "print(\"The movies dataframe:\")\n",
    "print(movies.head(10))"
   ]
  },
  {
   "cell_type": "markdown",
   "metadata": {},
   "source": [
    "The movie dataframe has a colum *genres*, which we will use to define our features. However, **we need a vector-like representation for each movie** and not a representation as string (e.g. \"Animation|Children's|Comedy\"). Below, we define a list of genres. Each movie will then be represented as a (boolean) vector, where an element is 1 if the movie is in the corresponding genre. The function *extract_genre* takes care of extracting this information per row."
   ]
  },
  {
   "cell_type": "code",
   "execution_count": 3,
   "metadata": {},
   "outputs": [
    {
     "name": "stdout",
     "output_type": "stream",
     "text": [
      "Number of genres: 18\n"
     ]
    }
   ],
   "source": [
    "GENRES = [\n",
    "    \"Action\",\n",
    "    \"Adventure\",\n",
    "    \"Animation\",\n",
    "    \"Children\",\n",
    "    \"Comedy\",\n",
    "    \"Crime\",\n",
    "    \"Documentary\",\n",
    "    \"Drama\",\n",
    "    \"Fantasy\",\n",
    "    \"Film-Noir\",\n",
    "    \"Horror\",\n",
    "    \"Musical\",\n",
    "    \"Mystery\",\n",
    "    \"Romance\",\n",
    "    \"Sci-Fi\",\n",
    "    \"Thriller\",\n",
    "    \"War\",\n",
    "    \"Western\"\n",
    "]\n",
    "\n",
    "print(\"Number of genres: {}\".format(len(GENRES)))\n",
    "\n",
    "def extract_genre(genres, gen):\n",
    "    \"\"\"\n",
    "    Parameters\n",
    "    ----------\n",
    "    genres: str\n",
    "        The string containing the genres per movie.\n",
    "        (e.g. Animation|Children's|Comedy)\n",
    "    gen: str\n",
    "        The genre that we test (if it is contained \n",
    "        in the string above)\n",
    "    \"\"\"\n",
    "    genres_list = genres.split(\"|\")\n",
    "    return 1 if gen in genres else 0\n"
   ]
  },
  {
   "cell_type": "code",
   "execution_count": 4,
   "metadata": {},
   "outputs": [
    {
     "name": "stdout",
     "output_type": "stream",
     "text": [
      "                                title  Action  Adventure  Animation  Children  \\\n",
      "0                    Toy Story (1995)       0          0          1         1   \n",
      "1                      Jumanji (1995)       0          1          0         1   \n",
      "2             Grumpier Old Men (1995)       0          0          0         0   \n",
      "3            Waiting to Exhale (1995)       0          0          0         0   \n",
      "4  Father of the Bride Part II (1995)       0          0          0         0   \n",
      "5                         Heat (1995)       1          0          0         0   \n",
      "6                      Sabrina (1995)       0          0          0         0   \n",
      "7                 Tom and Huck (1995)       0          1          0         1   \n",
      "8                 Sudden Death (1995)       1          0          0         0   \n",
      "9                    GoldenEye (1995)       1          1          0         0   \n",
      "\n",
      "   Comedy  Crime  Documentary  Drama  Fantasy  Film-Noir  Horror  Musical  \\\n",
      "0       1      0            0      0        0          0       0        0   \n",
      "1       0      0            0      0        1          0       0        0   \n",
      "2       1      0            0      0        0          0       0        0   \n",
      "3       1      0            0      1        0          0       0        0   \n",
      "4       1      0            0      0        0          0       0        0   \n",
      "5       0      1            0      0        0          0       0        0   \n",
      "6       1      0            0      0        0          0       0        0   \n",
      "7       0      0            0      0        0          0       0        0   \n",
      "8       0      0            0      0        0          0       0        0   \n",
      "9       0      0            0      0        0          0       0        0   \n",
      "\n",
      "   Mystery  Romance  Sci-Fi  Thriller  War  Western  \n",
      "0        0        0       0         0    0        0  \n",
      "1        0        0       0         0    0        0  \n",
      "2        0        1       0         0    0        0  \n",
      "3        0        0       0         0    0        0  \n",
      "4        0        0       0         0    0        0  \n",
      "5        0        0       0         1    0        0  \n",
      "6        0        1       0         0    0        0  \n",
      "7        0        0       0         0    0        0  \n",
      "8        0        0       0         0    0        0  \n",
      "9        0        0       0         1    0        0  \n"
     ]
    }
   ],
   "source": [
    "import copy\n",
    "    \n",
    "# let's generate a copy for the current movies dataframe\n",
    "converted_movies = copy.deepcopy(movies)    \n",
    "\n",
    "# for each genre, we generate a new column (indicator if genre is present in the list of genres)\n",
    "for gen in GENRES:\n",
    "    converted_movies[gen] = converted_movies['genres'].apply(extract_genre, args=(gen,))\n",
    "\n",
    "print(converted_movies[['title'] + GENRES].head(10))"
   ]
  },
  {
   "cell_type": "markdown",
   "metadata": {},
   "source": [
    "### (1) Item Profiles \n",
    "Next, we define a function that computes the cosine similarity for two input vectors."
   ]
  },
  {
   "cell_type": "code",
   "execution_count": 5,
   "metadata": {},
   "outputs": [],
   "source": [
    "def get_cosine_similarity(x, y):\n",
    "    \n",
    "    numerator = np.dot(x,y)\n",
    "    denominator = np.linalg.norm(x) * np.linalg.norm(y)\n",
    "\n",
    "    # sanity check: x and y must be non-zero vectors\n",
    "    if denominator > 0:\n",
    "        sim = numerator / denominator\n",
    "    else:\n",
    "        raise Exception(\"The cosine similarity is not defined for vectors containing only zeros!\")\n",
    "\n",
    "    return sim"
   ]
  },
  {
   "cell_type": "code",
   "execution_count": 6,
   "metadata": {},
   "outputs": [
    {
     "name": "stdout",
     "output_type": "stream",
     "text": [
      "0                      Toy Story (1995)\n",
      "1                        Jumanji (1995)\n",
      "2               Grumpier Old Men (1995)\n",
      "3              Waiting to Exhale (1995)\n",
      "4    Father of the Bride Part II (1995)\n",
      "5                           Heat (1995)\n",
      "6                        Sabrina (1995)\n",
      "7                   Tom and Huck (1995)\n",
      "8                   Sudden Death (1995)\n",
      "9                      GoldenEye (1995)\n",
      "Name: title, dtype: object\n",
      "title\n",
      "Toy Story (1995)                      0\n",
      "Jumanji (1995)                        1\n",
      "Grumpier Old Men (1995)               2\n",
      "Waiting to Exhale (1995)              3\n",
      "Father of the Bride Part II (1995)    4\n",
      "Heat (1995)                           5\n",
      "Sabrina (1995)                        6\n",
      "Tom and Huck (1995)                   7\n",
      "Sudden Death (1995)                   8\n",
      "GoldenEye (1995)                      9\n",
      "dtype: int64\n"
     ]
    }
   ],
   "source": [
    "# let us define two arrays/lists; the indices list allows us to return,\n",
    "# for each title, the corresponding row number\n",
    "titles = movies['title']\n",
    "indices = pd.Series(movies.index, index=movies['title'])\n",
    "print(titles.head(10))\n",
    "print(indices.head(10))"
   ]
  },
  {
   "cell_type": "code",
   "execution_count": 7,
   "metadata": {},
   "outputs": [],
   "source": [
    "def get_recommendations(movie_title, n=10):\n",
    "    \n",
    "    # get the index/row number of the movie with title \"movie_title\"\n",
    "    idx = indices[movie_title]\n",
    "    \n",
    "    # this is our \"query movie\" for which we have a representation\n",
    "    # based on the genres defined above\n",
    "    query_item = converted_movies.iloc[idx][GENRES]\n",
    "    query_item = query_item.to_numpy()\n",
    "\n",
    "    # compute cosine similarities between query movie and all\n",
    "    # movies in the catalog (except for the query movie)\n",
    "    similarities = []\n",
    "    for i in range(len(converted_movies['genres'])):\n",
    "        \n",
    "        # skip the query item\n",
    "        if i != idx:\n",
    "            \n",
    "            # get the i-th item\n",
    "            other_item = converted_movies.iloc[i][GENRES]\n",
    "            other_item = other_item.to_numpy()\n",
    "\n",
    "            # compute cosine similarity between both items\n",
    "            sim = get_cosine_similarity(query_item, other_item)\n",
    "            \n",
    "            # store result in list\n",
    "            similarities.append((i, sim))\n",
    "    \n",
    "    # sort pairs w.r.t. second entry (cosine similarities) in \n",
    "    # descending order (reverse=True)\n",
    "    sorted_similarities = sorted(similarities, key=lambda x: x[1], reverse=True)\n",
    "    \n",
    "    # take the top n elements\n",
    "    sorted_similarities = sorted_similarities[:n]\n",
    "    \n",
    "    # get the corresponding movie indices\n",
    "    movie_indices = [pair[0] for pair in sorted_similarities]\n",
    "    \n",
    "    # return the list of titles\n",
    "    return titles.iloc[movie_indices]"
   ]
  },
  {
   "cell_type": "code",
   "execution_count": 8,
   "metadata": {},
   "outputs": [
    {
     "data": {
      "text/plain": [
       "1050            Aladdin and the King of Thieves (1996)\n",
       "2072                          American Tail, An (1986)\n",
       "2073        American Tail: Fievel Goes West, An (1991)\n",
       "2285                         Rugrats Movie, The (1998)\n",
       "2286                              Bug's Life, A (1998)\n",
       "3045                                Toy Story 2 (1999)\n",
       "3542                             Saludos Amigos (1943)\n",
       "3682                                Chicken Run (2000)\n",
       "3685    Adventures of Rocky and Bullwinkle, The (2000)\n",
       "236                              Goofy Movie, A (1995)\n",
       "Name: title, dtype: object"
      ]
     },
     "execution_count": 8,
     "metadata": {},
     "output_type": "execute_result"
    }
   ],
   "source": [
    "get_recommendations('Toy Story (1995)', n=10)"
   ]
  },
  {
   "cell_type": "markdown",
   "metadata": {},
   "source": [
    "### (2) User Profiles\n",
    "Next, we will have a look at user data and associated ratings. Below, we load the data files and merge all the dataframes (database-like join). "
   ]
  },
  {
   "cell_type": "code",
   "execution_count": 9,
   "metadata": {},
   "outputs": [],
   "source": [
    "users = pd.read_csv('users.csv', \n",
    "                    sep='\\t', \n",
    "                    encoding='latin-1', \n",
    "                    usecols=['user_id', 'gender', 'zipcode', 'age_desc', 'occ_desc'])\n",
    "\n",
    "ratings = pd.read_csv('ratings.csv', \n",
    "                      sep='\\t', \n",
    "                      encoding='latin-1', \n",
    "                      usecols=['user_id', 'movie_id', 'rating'])"
   ]
  },
  {
   "cell_type": "code",
   "execution_count": 10,
   "metadata": {},
   "outputs": [
    {
     "name": "stdout",
     "output_type": "stream",
     "text": [
      "   movie_id                                      title  \\\n",
      "0         1                           Toy Story (1995)   \n",
      "1        48                          Pocahontas (1995)   \n",
      "2       150                           Apollo 13 (1995)   \n",
      "3       260  Star Wars: Episode IV - A New Hope (1977)   \n",
      "4       527                    Schindler's List (1993)   \n",
      "5       531                  Secret Garden, The (1993)   \n",
      "6       588                             Aladdin (1992)   \n",
      "7       594     Snow White and the Seven Dwarfs (1937)   \n",
      "8       595                Beauty and the Beast (1991)   \n",
      "9       608                               Fargo (1996)   \n",
      "\n",
      "                                 genres  Action  Adventure  Animation  \\\n",
      "0           Animation|Children's|Comedy       0          0          1   \n",
      "1  Animation|Children's|Musical|Romance       0          0          1   \n",
      "2                                 Drama       0          0          0   \n",
      "3       Action|Adventure|Fantasy|Sci-Fi       1          1          0   \n",
      "4                             Drama|War       0          0          0   \n",
      "5                      Children's|Drama       0          0          0   \n",
      "6   Animation|Children's|Comedy|Musical       0          0          1   \n",
      "7          Animation|Children's|Musical       0          0          1   \n",
      "8          Animation|Children's|Musical       0          0          1   \n",
      "9                  Crime|Drama|Thriller       0          0          0   \n",
      "\n",
      "   Children  Comedy  Crime  Documentary  ...  Sci-Fi  Thriller  War  Western  \\\n",
      "0         1       1      0            0  ...       0         0    0        0   \n",
      "1         1       0      0            0  ...       0         0    0        0   \n",
      "2         0       0      0            0  ...       0         0    0        0   \n",
      "3         0       0      0            0  ...       1         0    0        0   \n",
      "4         0       0      0            0  ...       0         0    1        0   \n",
      "5         1       0      0            0  ...       0         0    0        0   \n",
      "6         1       1      0            0  ...       0         0    0        0   \n",
      "7         1       0      0            0  ...       0         0    0        0   \n",
      "8         1       0      0            0  ...       0         0    0        0   \n",
      "9         0       0      1            0  ...       0         1    0        0   \n",
      "\n",
      "   user_id  rating  gender  zipcode  age_desc      occ_desc  \n",
      "0        1       5       F    48067  Under 18  K-12 student  \n",
      "1        1       5       F    48067  Under 18  K-12 student  \n",
      "2        1       5       F    48067  Under 18  K-12 student  \n",
      "3        1       4       F    48067  Under 18  K-12 student  \n",
      "4        1       5       F    48067  Under 18  K-12 student  \n",
      "5        1       4       F    48067  Under 18  K-12 student  \n",
      "6        1       4       F    48067  Under 18  K-12 student  \n",
      "7        1       4       F    48067  Under 18  K-12 student  \n",
      "8        1       5       F    48067  Under 18  K-12 student  \n",
      "9        1       4       F    48067  Under 18  K-12 student  \n",
      "\n",
      "[10 rows x 27 columns]\n"
     ]
    }
   ],
   "source": [
    "# merge all three dataframes into a single dataframe\n",
    "# (via a database-like join)\n",
    "dataset = pd.merge(converted_movies, ratings, on=\"movie_id\")\n",
    "dataset = pd.merge(dataset, users, on=\"user_id\")\n",
    "print(dataset.head(10))"
   ]
  },
  {
   "cell_type": "code",
   "execution_count": 11,
   "metadata": {},
   "outputs": [
    {
     "name": "stdout",
     "output_type": "stream",
     "text": [
      "Data for the user with id 10:\n",
      "     movie_id                         title  \\\n",
      "369         1              Toy Story (1995)   \n",
      "370         2                Jumanji (1995)   \n",
      "371         7                Sabrina (1995)   \n",
      "372        24                 Powder (1995)   \n",
      "373        32         Twelve Monkeys (1995)   \n",
      "374        48             Pocahontas (1995)   \n",
      "375        62     Mr. Holland's Opus (1995)   \n",
      "376       104          Happy Gilmore (1996)   \n",
      "377       110             Braveheart (1995)   \n",
      "378       116  Anne Frank Remembered (1995)   \n",
      "\n",
      "                                   genres  Action  Adventure  Animation  \\\n",
      "369           Animation|Children's|Comedy       0          0          1   \n",
      "370          Adventure|Children's|Fantasy       0          1          0   \n",
      "371                        Comedy|Romance       0          0          0   \n",
      "372                          Drama|Sci-Fi       0          0          0   \n",
      "373                          Drama|Sci-Fi       0          0          0   \n",
      "374  Animation|Children's|Musical|Romance       0          0          1   \n",
      "375                                 Drama       0          0          0   \n",
      "376                                Comedy       0          0          0   \n",
      "377                      Action|Drama|War       1          0          0   \n",
      "378                           Documentary       0          0          0   \n",
      "\n",
      "     Children  Comedy  Crime  Documentary  ...  Sci-Fi  Thriller  War  \\\n",
      "369         1       1      0            0  ...       0         0    0   \n",
      "370         1       0      0            0  ...       0         0    0   \n",
      "371         0       1      0            0  ...       0         0    0   \n",
      "372         0       0      0            0  ...       1         0    0   \n",
      "373         0       0      0            0  ...       1         0    0   \n",
      "374         1       0      0            0  ...       0         0    0   \n",
      "375         0       0      0            0  ...       0         0    0   \n",
      "376         0       1      0            0  ...       0         0    0   \n",
      "377         0       0      0            0  ...       0         0    1   \n",
      "378         0       0      0            1  ...       0         0    0   \n",
      "\n",
      "     Western  user_id  rating  gender  zipcode  age_desc           occ_desc  \n",
      "369        0       10       5       F    95370     35-44  academic/educator  \n",
      "370        0       10       5       F    95370     35-44  academic/educator  \n",
      "371        0       10       4       F    95370     35-44  academic/educator  \n",
      "372        0       10       3       F    95370     35-44  academic/educator  \n",
      "373        0       10       5       F    95370     35-44  academic/educator  \n",
      "374        0       10       4       F    95370     35-44  academic/educator  \n",
      "375        0       10       5       F    95370     35-44  academic/educator  \n",
      "376        0       10       3       F    95370     35-44  academic/educator  \n",
      "377        0       10       4       F    95370     35-44  academic/educator  \n",
      "378        0       10       3       F    95370     35-44  academic/educator  \n",
      "\n",
      "[10 rows x 27 columns]\n"
     ]
    }
   ],
   "source": [
    "# get data for a specific user\n",
    "user_id = 10\n",
    "user_data = dataset[dataset['user_id'] == user_id]\n",
    "print(\"Data for the user with id {}:\".format(user_id))\n",
    "print(user_data.head(10))"
   ]
  },
  {
   "cell_type": "code",
   "execution_count": 12,
   "metadata": {},
   "outputs": [
    {
     "name": "stdout",
     "output_type": "stream",
     "text": [
      "(401, 18)\n"
     ]
    }
   ],
   "source": [
    "# for the given user, extract all ratings and item profiles\n",
    "\n",
    "ratings = []\n",
    "items = []\n",
    "\n",
    "for index, row in user_data.iterrows():\n",
    "    \n",
    "    rating = row['rating']\n",
    "    item = row[GENRES].to_numpy()\n",
    "    \n",
    "    ratings.append(rating)\n",
    "    items.append(item)\n",
    "    \n",
    "# convert lists to numpy arrays\n",
    "ratings = np.array(ratings)\n",
    "items = np.array(items)\n",
    "print(items.shape)"
   ]
  },
  {
   "cell_type": "markdown",
   "metadata": {},
   "source": [
    "Next, we generate a user profile by computing weighted averages"
   ]
  },
  {
   "cell_type": "code",
   "execution_count": 13,
   "metadata": {},
   "outputs": [
    {
     "name": "stdout",
     "output_type": "stream",
     "text": [
      "User profile:\n",
      "[317 288 142 263 757 54 8 485 164 14 76 164 29 293 297 114 92 31]\n"
     ]
    }
   ],
   "source": [
    "user_profile = None\n",
    "\n",
    "# option 1\n",
    "new_ratings = ratings # normal ratings\n",
    "\n",
    "# option 2\n",
    "#new_ratings = ratings - ratings.mean() # mean ratings\n",
    "\n",
    "for i in range(len(items)):\n",
    "    \n",
    "    if user_profile is None:\n",
    "        user_profile = new_ratings[i] * items[i]\n",
    "    else:\n",
    "        user_profile += new_ratings[i] * items[i]\n",
    "\n",
    "print(\"User profile:\\n{}\".format(user_profile))"
   ]
  },
  {
   "cell_type": "code",
   "execution_count": 14,
   "metadata": {},
   "outputs": [],
   "source": [
    "def get_user_recommendations(user_prof, n=10):\n",
    "    \n",
    "    similarities = []\n",
    "\n",
    "    for i in range(len(converted_movies['genres'])):\n",
    "\n",
    "        # get the i-th item\n",
    "        item = converted_movies.iloc[i][GENRES]\n",
    "        item = item.to_numpy()\n",
    "\n",
    "        # compute cosine similarity between item and user profile\n",
    "        sim = get_cosine_similarity(item, user_prof)\n",
    "\n",
    "        # store result in list\n",
    "        similarities.append((i, sim))\n",
    "\n",
    "    # sort pairs w.r.t. second entry (similarities)\n",
    "    sorted_similarities = sorted(similarities, key=lambda x: x[1], reverse=True)\n",
    "\n",
    "    # take the top n elements\n",
    "    sorted_similarities = sorted_similarities[:n]\n",
    "\n",
    "    # get the corresponding movie indices\n",
    "    movie_indices = [pair[0] for pair in sorted_similarities]\n",
    "    \n",
    "    # return the list of titles\n",
    "    return titles.iloc[movie_indices]    "
   ]
  },
  {
   "cell_type": "code",
   "execution_count": 15,
   "metadata": {},
   "outputs": [
    {
     "data": {
      "text/plain": [
       "20                        Get Shorty (1995)\n",
       "386     Faster Pussycat! Kill! Kill! (1965)\n",
       "1847                      Buffalo 66 (1998)\n",
       "3087                Bicentennial Man (1999)\n",
       "10           American President, The (1995)\n",
       "193          Something to Talk About (1995)\n",
       "221                 Don Juan DeMarco (1995)\n",
       "347                 Corrina, Corrina (1994)\n",
       "355              I Like It Like That (1994)\n",
       "492             What Happened Was... (1994)\n",
       "Name: title, dtype: object"
      ]
     },
     "execution_count": 15,
     "metadata": {},
     "output_type": "execute_result"
    }
   ],
   "source": [
    "get_user_recommendations(user_profile)"
   ]
  },
  {
   "cell_type": "code",
   "execution_count": null,
   "metadata": {},
   "outputs": [],
   "source": []
  }
 ],
 "metadata": {
  "kernelspec": {
   "display_name": "plant-recommender-datasource",
   "language": "python",
   "name": "python3"
  },
  "language_info": {
   "codemirror_mode": {
    "name": "ipython",
    "version": 3
   },
   "file_extension": ".py",
   "mimetype": "text/x-python",
   "name": "python",
   "nbconvert_exporter": "python",
   "pygments_lexer": "ipython3",
   "version": "3.10.8 | packaged by conda-forge | (main, Nov 22 2022, 08:25:29) [Clang 14.0.6 ]"
  },
  "vscode": {
   "interpreter": {
    "hash": "10109e481d46776ccaa2b71e435404123b12b9b919ecb3eddf55ff947b510ddd"
   }
  }
 },
 "nbformat": 4,
 "nbformat_minor": 4
}
